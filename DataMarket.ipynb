{
  "nbformat": 4,
  "nbformat_minor": 0,
  "metadata": {
    "colab": {
      "provenance": []
    },
    "kernelspec": {
      "name": "python3",
      "display_name": "Python 3"
    },
    "language_info": {
      "name": "python"
    }
  },
  "cells": [
    {
      "cell_type": "markdown",
      "source": [
        "## Mean Estimation Market"
      ],
      "metadata": {
        "id": "oboSdv6EpW3q"
      }
    },
    {
      "cell_type": "code",
      "execution_count": 117,
      "metadata": {
        "id": "-_PqZO5I_X_3"
      },
      "outputs": [],
      "source": [
        "# generate buyer and seller vectors\n",
        "import numpy as np\n",
        "np.random.seed(7)\n",
        "n_buyers = 1 # number of buyers\n",
        "n_sellers = 3 # number of sellers\n",
        "n_dim = 7 # dimension of vectors\n",
        "seller_idx = 0 # the chosen seller index to analyze\n",
        "true_cj = 5 # true cost factor for the chosen seller\n",
        "def generate_vectors(num_vectors=1, vector_size=1, mean=1, variance=1):\n",
        "    # Standard deviation is the square root of the variance\n",
        "    std_dev = np.sqrt(variance)\n",
        "    # Generate the vectors\n",
        "    vectors = np.random.normal(loc=mean, scale=std_dev, size=(num_vectors, vector_size))\n",
        "    return vectors\n",
        "\n",
        "seller_vectors = generate_vectors(num_vectors=n_sellers, vector_size = n_dim)\n",
        "\n",
        "buyer_vectors = generate_vectors(num_vectors=n_buyers, vector_size = n_dim)"
      ]
    },
    {
      "cell_type": "code",
      "source": [
        "from numpy import linalg as LA\n",
        "\n",
        "B = np.matrix([[np.matmul(buyer_vectors[i],seller_vectors[j]) for j in range(n_sellers)] for i in range(n_buyers) ])\n",
        "C = np.matrix([[np.matmul(seller_vectors[i],seller_vectors[j]) for j in range(n_sellers)] for i in range(n_sellers) ])\n",
        "V = np.diag(np.random.random_sample(n_sellers)*2)\n",
        "diag_entries = np.random.choice(np.arange(1, 10), size=n_sellers)\n",
        "A = np.diag(diag_entries)\n",
        "print(B)\n",
        "print(C)\n",
        "print(V)\n",
        "print(A)"
      ],
      "metadata": {
        "id": "zbqCQziRUajR",
        "colab": {
          "base_uri": "https://localhost:8080/"
        },
        "outputId": "759db71d-d189-453a-b35e-d5b00f97150b"
      },
      "execution_count": 118,
      "outputs": [
        {
          "output_type": "stream",
          "name": "stdout",
          "text": [
            "[[7.11890145 5.14127214 2.07568603]]\n",
            "[[12.61887995  3.64845422  7.37256291]\n",
            " [ 3.64845422 10.84030439  3.64424868]\n",
            " [ 7.37256291  3.64424868 13.38637   ]]\n",
            "[[0.73178077 0.         0.        ]\n",
            " [0.         1.67583599 0.        ]\n",
            " [0.         0.         1.53729501]]\n",
            "[[8 0 0]\n",
            " [0 8 0]\n",
            " [0 0 1]]\n"
          ]
        }
      ]
    },
    {
      "cell_type": "code",
      "source": [
        "def get_W(seller_vectors=seller_vectors, buyer_vectors=buyer_vectors,V=V, A=A, cj=true_cj,seller_idx=seller_idx):\n",
        "  A_loc = A.copy()\n",
        "  A_loc[seller_idx, seller_idx] = cj\n",
        "  B = np.matrix([[np.matmul(buyer_vectors[i],seller_vectors[j]) for j in range(n_sellers)] for i in range(n_buyers) ])\n",
        "  C = np.matrix([[np.matmul(seller_vectors[i],seller_vectors[j]) for j in range(n_sellers)] for i in range(n_sellers) ])\n",
        "  return np.matmul(B, LA.inv(C+V+A_loc))\n",
        "\n",
        "def get_fj(seller_vectors=seller_vectors, buyer_vectors=buyer_vectors,V=V, A=A, seller_idx=seller_idx, cj = 5):\n",
        "  # calculating fj should not alter A in place\n",
        "  A_loc= A.copy()\n",
        "  A_loc[seller_idx,seller_idx] = cj\n",
        "  new_wji_list = get_W(seller_vectors=seller_vectors, buyer_vectors=buyer_vectors,V=V, A=A_loc, cj =cj)[:, seller_idx]\n",
        "  fj = np.linalg.norm(new_wji_list)**2\n",
        "  return new_wji_list, fj\n"
      ],
      "metadata": {
        "id": "dD3LkrB_0kOQ"
      },
      "execution_count": 119,
      "outputs": []
    },
    {
      "cell_type": "code",
      "source": [
        "def get_fk_sum(seller_vectors=seller_vectors, buyer_vectors=buyer_vectors,seller_idx=4, A =A, cj = 5):\n",
        "  A_loc = A.copy()\n",
        "  A_loc[seller_idx,seller_idx] = cj\n",
        "  s = 0\n",
        "  for i in range(n_sellers):\n",
        "    if i != seller_idx:\n",
        "      new_wji_list = get_W(seller_vectors=seller_vectors, buyer_vectors=buyer_vectors,V=V,A=A_loc, cj =cj)[:, i]\n",
        "      fj = np.linalg.norm(new_wji_list)**2\n",
        "      s += fj\n",
        "  return s"
      ],
      "metadata": {
        "id": "klBcUs1dVnza"
      },
      "execution_count": 120,
      "outputs": []
    },
    {
      "cell_type": "code",
      "source": [
        "print(get_W(seller_vectors=seller_vectors, buyer_vectors=buyer_vectors,V=V, A=A, cj=true_cj,seller_idx=seller_idx))\n",
        "_, fj = get_fj(seller_vectors=seller_vectors, buyer_vectors=buyer_vectors,V=V, A=A, seller_idx=seller_idx, cj = 5)\n",
        "print(fj)"
      ],
      "metadata": {
        "id": "keiCIPe3VylE",
        "colab": {
          "base_uri": "https://localhost:8080/"
        },
        "outputId": "6da8d3a6-32a6-4194-f018-04c5196f711b"
      },
      "execution_count": 121,
      "outputs": [
        {
          "output_type": "stream",
          "name": "stdout",
          "text": [
            "[[ 0.38617517  0.19860016 -0.09389566]]\n",
            "0.14913126184276182\n"
          ]
        }
      ]
    },
    {
      "cell_type": "code",
      "source": [
        "fj_list = []\n",
        "fk_sum_list = []\n",
        "x = np.arange(0.1, 50, 1)\n",
        "for cj in x:\n",
        "  a,fj =  get_fj(seller_vectors=seller_vectors, buyer_vectors=buyer_vectors,seller_idx=seller_idx, A=A, cj = cj)\n",
        "  fk_sum = get_fk_sum(seller_vectors=seller_vectors, buyer_vectors=buyer_vectors,seller_idx=seller_idx, A=A, cj = cj)\n",
        "  fj_list.append(fj)\n",
        "  fk_sum_list.append(fk_sum)"
      ],
      "metadata": {
        "id": "msf9jS4C0s3s"
      },
      "execution_count": 122,
      "outputs": []
    },
    {
      "cell_type": "code",
      "source": [
        "import matplotlib.pyplot as plt\n",
        "fig, axs = plt.subplots(2, 1, figsize=(4,4), sharex=True)\n",
        "\n",
        "\n",
        "axs[0].plot(x, fj_list, color=\"seagreen\")\n",
        "axs[0].axvline(x=true_cj, color=\"lightcoral\", linestyle=\"--\", linewidth=2, label=\"x = 5\")\n",
        "axs[0].set_title(\"$f_j$\")\n",
        "axs[0].grid(True)\n",
        "\n",
        "\n",
        "axs[1].plot(x, fk_sum_list, color=\"orange\")\n",
        "axs[1].set_xlabel(\"$\\hat{c}_j$\")\n",
        "axs[1].set_title(\"$\\sum_{k != j} f_k$\")\n",
        "axs[1].grid(True)\n",
        "\n",
        "plt.tight_layout()\n"
      ],
      "metadata": {
        "id": "cmee68W76f7o",
        "colab": {
          "base_uri": "https://localhost:8080/",
          "height": 406
        },
        "outputId": "7da2082f-8d23-4a2c-b4c4-39ec3a2bbc09"
      },
      "execution_count": 123,
      "outputs": [
        {
          "output_type": "display_data",
          "data": {
            "text/plain": [
              "<Figure size 400x400 with 2 Axes>"
            ],
            "image/png": "[encoded data removed]"
          },
          "metadata": {}
        }
      ]
    },
    {
      "cell_type": "code",
      "source": [
        "seller_vectors_reduced = np.delete(seller_vectors, seller_idx, axis=0)\n",
        "def get_W_reduced(buyer_vectors=buyer_vectors, seller_vectors=seller_vectors,V=V, A=A, seller_idx=seller_idx):\n",
        "  B = np.matrix([[np.matmul(buyer_vectors[i],seller_vectors[j]) for j in range(n_sellers)] for i in range(n_buyers) ])\n",
        "  C = np.matrix([[np.matmul(seller_vectors[i],seller_vectors[j]) for j in range(n_sellers)] for i in range(n_sellers) ])\n",
        "  B_reduced = np.delete(B, seller_idx, axis=1)\n",
        "  C_reduced = np.delete(np.delete(C, seller_idx, axis=0), seller_idx, axis=1)\n",
        "  V_reduced = np.delete(np.delete(V, seller_idx, axis=0), seller_idx, axis=1)\n",
        "  A_reduced = np.delete(np.delete(A, seller_idx, axis=0), seller_idx, axis=1)\n",
        "  W_reduced = np.matmul(B_reduced, LA.inv(C_reduced+V_reduced+A_reduced))\n",
        "  return W_reduced\n",
        "\n",
        "B = np.matrix([[np.matmul(buyer_vectors[i],seller_vectors[j]) for j in range(n_sellers)] for i in range(n_buyers) ])\n",
        "C = np.matrix([[np.matmul(seller_vectors[i],seller_vectors[j]) for j in range(n_sellers)] for i in range(n_sellers) ])\n",
        "B_reduced = np.delete(B, seller_idx, axis=1)\n",
        "C_reduced = np.delete(np.delete(C, seller_idx, axis=0), seller_idx, axis=1)\n",
        "V_reduced = np.delete(np.delete(V, seller_idx, axis=0), seller_idx, axis=1)\n",
        "A_reduced = np.delete(np.delete(A, seller_idx, axis=0), seller_idx, axis=1)\n",
        "\n",
        "W_reduced = get_W_reduced(buyer_vectors=buyer_vectors, seller_vectors=seller_vectors,V=V, A=A, seller_idx=seller_idx)\n",
        "\n",
        "SC_reduced = 0\n",
        "for i in range(buyer_vectors.shape[0]):\n",
        "  sw_i = np.matmul(np.matmul(W_reduced[i,:], C_reduced),W_reduced[i,:].T) - \\\n",
        "  2*np.matmul(W_reduced[i,:],B_reduced[i,:].T) \\\n",
        "  + np.matmul(np.matmul(W_reduced[i,:], V_reduced+A_reduced), W_reduced[i,:].T) + np.linalg.norm(buyer_vectors[i,:])**2\n",
        "  SC_reduced += sw_i.item()"
      ],
      "metadata": {
        "id": "oGHG9o6F_a1x"
      },
      "execution_count": 124,
      "outputs": []
    },
    {
      "cell_type": "code",
      "source": [
        "x = np.arange(0, 20, 1)\n",
        "vcg_list = []\n",
        "fj_list = []\n",
        "SC_ori_list = []\n",
        "myerson_list = []\n",
        "\n",
        "\n",
        "W_reduced = get_W_reduced(buyer_vectors=buyer_vectors, seller_vectors=seller_vectors,V=V, A=A, seller_idx=seller_idx)\n",
        "\n",
        "for true_cost in x:\n",
        "  _, fj = get_fj(seller_vectors=seller_vectors, buyer_vectors=buyer_vectors,seller_idx=seller_idx, A=A, cj = true_cost)\n",
        "  fj_list.append(fj)\n",
        "  SC_reduced = 0\n",
        "  SC_ori = 0\n",
        "  B = np.matrix([[np.matmul(buyer_vectors[i],seller_vectors[j]) for j in range(n_sellers)] for i in range(n_buyers) ])\n",
        "  C = np.matrix([[np.matmul(seller_vectors[i],seller_vectors[j]) for j in range(n_sellers)] for i in range(n_sellers) ])\n",
        "  B_reduced = np.delete(B, seller_idx, axis=1)\n",
        "  C_reduced = np.delete(np.delete(C, seller_idx, axis=0), seller_idx, axis=1)\n",
        "  W = get_W(seller_vectors=seller_vectors, buyer_vectors=buyer_vectors,V=V, A=A, cj=true_cost,seller_idx=seller_idx)\n",
        "  print(W)\n",
        "  for i in range(buyer_vectors.shape[0]):\n",
        "    sw_i_reduced = - np.matmul(np.matmul(B_reduced[i,:], LA.inv(C_reduced +V_reduced+A_reduced)),B_reduced[i,:].T) + np.linalg.norm(buyer_vectors[i,:])**2\n",
        "    # sw_i_ori = - np.matmul(np.matmul(B[i,:], LA.inv(C +V +A)),B [i,:].T) + np.linalg.norm(buyer_vectors[i,:])**2\n",
        "    A_loc = A.copy()\n",
        "    A_loc[seller_idx, seller_idx] = true_cost\n",
        "    sw_i_ori = np.matmul(np.matmul(W, C),W.T) - \\\n",
        "    2*np.matmul(W,B[i,:].T) \\\n",
        "    + np.matmul(np.matmul(W, V+A_loc), W.T) + np.linalg.norm(buyer_vectors[i,:])**2\n",
        "    SC_ori += sw_i_ori.item()\n",
        "    SC_reduced += sw_i_reduced.item()\n",
        "  vcg = - SC_ori + SC_reduced + true_cost * fj\n",
        "  vcg_list.append(vcg)\n",
        "  xx = np.arange(true_cost,500,0.1)\n",
        "  yy = []\n",
        "  for t in xx:\n",
        "    a,b =  get_fj(seller_vectors=seller_vectors, buyer_vectors=buyer_vectors,seller_idx=seller_idx, A=A, cj = t)\n",
        "    yy.append(b)\n",
        "  from scipy import integrate\n",
        "  int_ = integrate.simpson(y = yy, x = xx)\n",
        "  myerson_list.append(int_+true_cost*fj)\n",
        "\n",
        "\n",
        "# fj always decreases with cj, fk may decrease or increase with cj, depending on the signs of W entries"
      ],
      "metadata": {
        "id": "1wXCKfIvQhiz",
        "colab": {
          "base_uri": "https://localhost:8080/"
        },
        "outputId": "f229ce16-b7fc-4d71-8422-57825a4502a1"
      },
      "execution_count": 129,
      "outputs": [
        {
          "output_type": "stream",
          "name": "stdout",
          "text": [
            "[[ 0.58438065  0.17885035 -0.18114374]]\n",
            "[[ 0.5299781   0.18427119 -0.15719628]]\n",
            "[[ 0.48484204  0.18876869 -0.13732784]]\n",
            "[[ 0.44679071  0.19256024 -0.12057802]]\n",
            "[[ 0.41427742  0.19579997 -0.10626599]]\n",
            "[[ 0.38617517  0.19860016 -0.09389566]]\n",
            "[[ 0.36164332  0.20104459 -0.08309699]]\n",
            "[[ 0.34004209  0.20319701 -0.07358834]]\n",
            "[[ 0.32087592  0.20510679 -0.06515158]]\n",
            "[[ 0.30375504  0.20681276 -0.05761514]]\n",
            "[[ 0.28836864  0.20834591 -0.0508422 ]]\n",
            "[[ 0.27446585  0.20973123 -0.04472234]]\n",
            "[[ 0.26184197  0.21098911 -0.03916543]]\n",
            "[[ 0.25032828  0.21213637 -0.03409721]]\n",
            "[[ 0.23978449  0.21318699 -0.02945595]]\n",
            "[[ 0.23009301  0.21415268 -0.02518985]]\n",
            "[[ 0.22115451  0.21504334 -0.02125522]]\n",
            "[[ 0.21288452  0.21586739 -0.01761485]]\n",
            "[[ 0.20521073  0.21663203 -0.01423692]]\n",
            "[[ 0.19807093  0.21734346 -0.01109405]]\n"
          ]
        }
      ]
    },
    {
      "cell_type": "code",
      "source": [
        "# a sanity check about the closed form W calculation -- seems correct\n",
        "\n",
        "from sympy import symbols, diff, solve\n",
        "from sympy.functions.elementary.exponential import exp\n",
        "from sympy import log\n",
        "from scipy.optimize import minimize\n",
        "from sympy.utilities.lambdify import lambdify\n",
        "import numpy as np\n",
        "\n",
        "\n",
        "def get_w_mean_market(j=0, cj=1,A=A, V=V, seller_vectors=seller_vectors, buyer_vectors=buyer_vectors):\n",
        "  # print(A)\n",
        "  x, y, z = symbols('x y z')\n",
        "  func = (x * seller_vectors[0] + y * seller_vectors[1] + z * seller_vectors[2] - buyer_vectors[0]).dot((x * seller_vectors[0] + y * seller_vectors[1] + z * seller_vectors[2] - buyer_vectors[0]).T) + (V[0][0]+cj) *x**2 + (V[1][1]+A[1][1])*y**2 + (V[2][2]+A[2][2])*z**2\n",
        "  my_func = lambdify((x,y,z), func)\n",
        "  def my_func_v(x):\n",
        "    return my_func(*tuple(x))\n",
        "\n",
        "  v = minimize(my_func_v,[1,1,1])['x']\n",
        "  return v\n",
        "\n",
        "def get_w_mean_market_reduced(j=0, cj=1,A=A, V=V, seller_vectors=seller_vectors, buyer_vectors=buyer_vectors):\n",
        "  y, z = symbols('y z')\n",
        "  func = (y * seller_vectors[1] + z * seller_vectors[2] - buyer_vectors[0]).dot((y * seller_vectors[1] + z * seller_vectors[2] - buyer_vectors[0]).T) +  (V[1][1]+A[1][1])*y**2 + (V[2][2]+A[2][2])*z**2\n",
        "  my_func = lambdify((y,z), func)\n",
        "  def my_func_v(x):\n",
        "    return my_func(*tuple(x))\n",
        "\n",
        "  v = minimize(my_func_v,[1,1])['x']\n",
        "  return v"
      ],
      "metadata": {
        "id": "0TmCH5aMJSSv"
      },
      "execution_count": 130,
      "outputs": []
    },
    {
      "cell_type": "code",
      "source": [
        "from numpy import linalg as LA\n",
        "\n",
        "\n",
        "true_cost = 4\n",
        "\n",
        "print(get_w_mean_market( seller_vectors=seller_vectors, buyer_vectors=buyer_vectors, j=seller_idx, cj=true_cost, A=A))\n",
        "\n",
        "print(get_W(seller_vectors=seller_vectors, buyer_vectors=buyer_vectors,V=V, A=A, cj=true_cost,seller_idx=seller_idx))\n",
        "\n",
        "print(get_w_mean_market_reduced( seller_vectors=seller_vectors, buyer_vectors=buyer_vectors, j=seller_idx, cj=true_cost, A=A))\n",
        "\n",
        "print(get_W_reduced(buyer_vectors=buyer_vectors, seller_vectors=seller_vectors,V=V, A=A, seller_idx=seller_idx))"
      ],
      "metadata": {
        "colab": {
          "base_uri": "https://localhost:8080/"
        },
        "id": "11RPlVoAKk7_",
        "outputId": "78997544-a1cb-4a57-95df-5329e84dd2b3"
      },
      "execution_count": 131,
      "outputs": [
        {
          "output_type": "stream",
          "name": "stdout",
          "text": [
            "[ 0.4142774   0.19579996 -0.10626599]\n",
            "[[ 0.41427742  0.19579997 -0.10626599]]\n",
            "[0.23707986 0.07609479]\n",
            "[[0.23707986 0.0760948 ]]\n"
          ]
        }
      ]
    },
    {
      "cell_type": "code",
      "source": [
        "import matplotlib.pyplot as plt\n",
        "\n",
        "plt.rcParams['figure.figsize'] = (5,3)\n",
        "colors = [\"#4E79A7\", \"#F28E2B\", \"#E15759\", \"#76B7B2\", \"#59A14F\", \"#EDC949\", \"#B07AA1\", \"#FF9DA7\"]\n",
        "\n",
        "plt.plot(x, x*np.array(fj_list) , color=colors[0],label='True cost',linestyle=\"--\")\n",
        "plt.plot(x, np.array(vcg_list), color=colors[2],label='VCG')\n",
        "plt.plot(x, np.array(myerson_list), color=colors[3],label='Myerson')\n",
        "plt.ylabel('Payment value')\n",
        "plt.xlabel('True $c_j$')\n",
        "plt.legend()\n",
        "plt.grid(True)\n",
        "plt.tight_layout()\n"
      ],
      "metadata": {
        "colab": {
          "base_uri": "https://localhost:8080/",
          "height": 307
        },
        "id": "FRidvSlYMjhI",
        "outputId": "efcf043c-9409-4273-c4e3-f4ab56143e8b"
      },
      "execution_count": 132,
      "outputs": [
        {
          "output_type": "display_data",
          "data": {
            "text/plain": [
              "<Figure size 500x300 with 1 Axes>"
            ],
            "image/png": "[encoded data removed]"
          },
          "metadata": {}
        }
      ]
    },
    {
      "cell_type": "markdown",
      "source": [
        "### Price of Anarchy"
      ],
      "metadata": {
        "id": "IZtH_oEse5XB"
      }
    },
    {
      "cell_type": "markdown",
      "source": [
        "#### LOO payment"
      ],
      "metadata": {
        "id": "ZyPBUwdbp5-y"
      }
    },
    {
      "cell_type": "code",
      "source": [
        "def Calculate_LOO(buyer_vectors = buyer_vectors,seller_vectors=seller_vectors, A=A, V=V, seller_idx=seller_idx, cj=cj):\n",
        "  A_loc = A.copy()\n",
        "  A_loc[seller_idx][seller_idx] = cj\n",
        "  B = np.matrix([[np.matmul(buyer_vectors[i],seller_vectors[j]) for j in range(n_sellers)] for i in range(n_buyers) ])\n",
        "  C = np.matrix([[np.matmul(seller_vectors[i],seller_vectors[j]) for j in range(n_sellers)] for i in range(n_sellers) ])\n",
        "  W = get_W(seller_vectors=seller_vectors, buyer_vectors=buyer_vectors,V=V, A=A, cj=cj, seller_idx=seller_idx)\n",
        "  B_reduced = np.delete(B, seller_idx, axis=1)\n",
        "  C_reduced = np.delete(np.delete(C, seller_idx, axis=0), seller_idx, axis=1)\n",
        "  V_reduced = np.delete(np.delete(V, seller_idx, axis=0), seller_idx, axis=1)\n",
        "  SC = 0\n",
        "  SC_reduced = 0\n",
        "  for i in range(buyer_vectors.shape[0]):\n",
        "      A_loc = A.copy()\n",
        "      A_loc[seller_idx, seller_idx] = true_cost\n",
        "      sc_i_ori = np.matmul(np.matmul(W, C),W.T) - \\\n",
        "      2*np.matmul(W,B[i,:].T) \\\n",
        "      + np.matmul(np.matmul(W, V), W.T) + np.linalg.norm(buyer_vectors[i,:])**2\n",
        "      sc_i_reduced = np.matmul(np.matmul(W_reduced[i,:], C_reduced),W_reduced[i,:].T) - \\\n",
        "      2*np.matmul(W_reduced[i,:],B_reduced[i,:].T) \\\n",
        "      + np.matmul(np.matmul(W_reduced[i,:], V_reduced), W_reduced[i,:].T) + np.linalg.norm(buyer_vectors[i,:])**2\n",
        "      SC_reduced += sc_i_reduced.item()\n",
        "      SC += sc_i_ori.item()\n",
        "\n",
        "  return SC_reduced - SC"
      ],
      "metadata": {
        "id": "GaZ5CvDLA4EX"
      },
      "execution_count": 24,
      "outputs": []
    },
    {
      "cell_type": "code",
      "source": [
        "def return_SW(buyer_vectors = buyer_vectors,seller_vectors=seller_vectors, A=A, V=V, seller_idx=seller_idx, cj=cj, true_cost=true_cost):\n",
        "  A_loc = A.copy()\n",
        "  A_loc[seller_idx][seller_idx] = cj\n",
        "  B = np.matrix([[np.matmul(buyer_vectors[i],seller_vectors[j]) for j in range(n_sellers)] for i in range(n_buyers) ])\n",
        "  C = np.matrix([[np.matmul(seller_vectors[i],seller_vectors[j]) for j in range(n_sellers)] for i in range(n_sellers) ])\n",
        "  W = get_W(seller_vectors=seller_vectors, buyer_vectors=buyer_vectors,V=V, A=A, cj=cj, seller_idx=seller_idx)\n",
        "  SC = 0\n",
        "  A_true = A.copy()\n",
        "  A_true[seller_idx][seller_idx] = true_cost\n",
        "  for i in range(n_buyers):\n",
        "    sc_i_ori = np.matmul(np.matmul(W[i,:], C),W[i,:].T) - \\\n",
        "    2*np.matmul(W[i,:],B[i,:].T) \\\n",
        "    + np.matmul(np.matmul(W[i,:], V+A_true), W[i,:].T) + np.linalg.norm(buyer_vectors[i,:])**2\n",
        "  SC += sc_i_ori.item()\n",
        "  return SC\n"
      ],
      "metadata": {
        "id": "7j8fprUXBM9r"
      },
      "execution_count": 25,
      "outputs": []
    },
    {
      "cell_type": "code",
      "source": [
        "LOO_list = []\n",
        "sw_list = []\n",
        "for cj in np.arange(0,20,0.1):\n",
        "  LOO_payment = Calculate_LOO(buyer_vectors = buyer_vectors,seller_vectors=seller_vectors, A=A, V=V, seller_idx=seller_idx, cj=cj)\n",
        "  LOO_list.append(LOO_payment)\n",
        "  sw = return_SW(buyer_vectors = buyer_vectors,seller_vectors=seller_vectors, A=A, V=V, seller_idx=seller_idx, cj=cj, true_cost=5)\n",
        "  sw_list.append(sw)\n"
      ],
      "metadata": {
        "id": "JGSWPFjuhrcc"
      },
      "execution_count": 26,
      "outputs": []
    },
    {
      "cell_type": "code",
      "source": [
        "import matplotlib.pyplot as plt\n",
        "plt.rcParams['figure.figsize'] = (3,3)\n",
        "colors = [\"#4E79A7\", \"#F28E2B\", \"#E15759\", \"#76B7B2\", \"#59A14F\", \"#EDC949\", \"#B07AA1\", \"#FF9DA7\"]\n",
        "fig, axs = plt.subplots(3, 1, figsize=(4,4), sharex=True)\n",
        "fj_list = []\n",
        "x = np.arange(0, 20, 0.1)\n",
        "for cj in x:\n",
        "  _, fj = get_fj(seller_vectors=seller_vectors, buyer_vectors=buyer_vectors,seller_idx=seller_idx, A=A, cj = cj)\n",
        "  fj_list.append(fj)\n",
        "axs[0].plot(np.arange(0,20,0.1), LOO_list,color=\"royalblue\",label='LOO payment')\n",
        "axs[0].plot(np.arange(0,20,0.1), np.array(fj_list)*true_cj, color='lightcoral',label='cost')\n",
        "axs[0].legend()\n",
        "\n",
        "axs[1].plot(np.arange(0,20,0.1),LOO_list-np.array(fj_list)*true_cj,color='mediumpurple',label='utility')\n",
        "axs[1].legend()\n",
        "axs[1].axvline(x=np.arange(0,20,0.1)[np.argmax(LOO_list-np.array(fj_list)*true_cj)], linestyle='--', color='black')\n",
        "\n",
        "axs[2].plot(np.arange(0,20,0.1),np.array(sw_list),color=colors[1],label='social cost')\n",
        "axs[2].axvline(x=5, linestyle='--', color='black')\n",
        "axs[2].legend()\n",
        "plt.xlabel('$\\hat{c}_j$')\n"
      ],
      "metadata": {
        "id": "tK_lxwwBiE5G",
        "colab": {
          "base_uri": "https://localhost:8080/",
          "height": 413
        },
        "outputId": "9edc405a-aeee-4356-b29d-49ca2436bac5"
      },
      "execution_count": 27,
      "outputs": [
        {
          "output_type": "execute_result",
          "data": {
            "text/plain": [
              "Text(0.5, 0, '$\\\\hat{c}_j$')"
            ]
          },
          "metadata": {},
          "execution_count": 27
        },
        {
          "output_type": "display_data",
          "data": {
            "text/plain": [
              "<Figure size 400x400 with 3 Axes>"
            ],
            "image/png": "[encoded data removed]"
          },
          "metadata": {}
        }
      ]
    },
    {
      "cell_type": "code",
      "source": [
        "SW_LOO = return_SW(buyer_vectors = buyer_vectors,seller_vectors=seller_vectors, A=A, V=V, seller_idx=seller_idx, cj=np.arange(0,20,0.1)[np.argmax(LOO_list-np.array(fj_list)*true_cj)], true_cost=5)\n",
        "SW_opt = return_SW(buyer_vectors = buyer_vectors,seller_vectors=seller_vectors, A=A, V=V, seller_idx=seller_idx, cj=5, true_cost=5)\n",
        "print(SW_LOO/SW_opt)"
      ],
      "metadata": {
        "colab": {
          "base_uri": "https://localhost:8080/"
        },
        "id": "OOKn1p-XrPLe",
        "outputId": "f41cc7c0-3099-48ed-bee5-f9d150930b25"
      },
      "execution_count": 36,
      "outputs": [
        {
          "output_type": "stream",
          "name": "stdout",
          "text": [
            "1.0029135361941177\n"
          ]
        }
      ]
    },
    {
      "cell_type": "markdown",
      "source": [
        "#### Shapley payment"
      ],
      "metadata": {
        "id": "4m_Dl3I0p92r"
      }
    },
    {
      "cell_type": "code",
      "source": [
        "from itertools import chain, combinations\n",
        "elements = [1,2]\n",
        "\n",
        "def all_subsets(iterable):\n",
        "    return chain.from_iterable(combinations(iterable, r) for r in range(len(iterable) + 1))\n",
        "subsets = list(map(list, all_subsets(elements)))\n"
      ],
      "metadata": {
        "id": "vt9xRJR_pXOt"
      },
      "execution_count": 29,
      "outputs": []
    },
    {
      "cell_type": "code",
      "source": [
        "import random\n",
        "from math import comb\n",
        "\n",
        "def return_shapley_value(buyer_vectors = buyer_vectors,seller_vectors=seller_vectors, A=A, V=V, seller_idx=seller_idx, cj=cj):\n",
        "  A_loc = A.copy()\n",
        "  A_loc[seller_idx][seller_idx] = cj\n",
        "  B = np.matrix([[np.matmul(buyer_vectors[i],seller_vectors[j]) for j in range(n_sellers)] for i in range(n_buyers) ])\n",
        "  C = np.matrix([[np.matmul(seller_vectors[i],seller_vectors[j]) for j in range(n_sellers)] for i in range(n_sellers) ])\n",
        "  Shapley_value = 0\n",
        "  for subset in subsets:\n",
        "    if len(subset) >0:\n",
        "      subset_plus_j = subset + [seller_idx]\n",
        "      A_sub = A_loc[np.ix_(subset,subset)]\n",
        "      A_sub_j = A_loc[np.ix_(subset_plus_j,subset_plus_j)]\n",
        "      C_sub = C[np.ix_(subset,subset)]\n",
        "      C_sub_j = C[np.ix_(subset_plus_j,subset_plus_j)]\n",
        "      V_sub = V[np.ix_(subset,subset)]\n",
        "      V_sub_j = V[np.ix_(subset_plus_j,subset_plus_j)]\n",
        "      B_sub = B[:,subset]\n",
        "      B_sub_j = B[:,subset_plus_j]\n",
        "      W_sub = np.matmul(B_sub, LA.pinv(C_sub+V_sub+A_sub))\n",
        "      W_sub_j = np.matmul(B_sub_j, LA.pinv(C_sub_j+V_sub_j+A_sub_j))\n",
        "      SV_before = 0\n",
        "      SV_after = 0\n",
        "      for i in range(n_buyers):\n",
        "        sw_i = np.matmul(np.matmul(W_sub[i,:], C_sub),W_sub[i,:].T) - \\\n",
        "        2*np.matmul(W_sub[i,:], B_sub[i,:].T) \\\n",
        "        + np.matmul(np.matmul(W_sub[i,:], V_sub), W_sub[i,:].T) + np.linalg.norm(buyer_vectors[i,:])**2\n",
        "\n",
        "        sw_i_ = np.matmul(np.matmul(W_sub_j[i,:], C_sub_j),W_sub_j[i,:].T) - \\\n",
        "        2*np.matmul(W_sub_j[i,:], B_sub_j[i,:].T) \\\n",
        "        + np.matmul(np.matmul(W_sub_j[i,:], V_sub_j), W_sub_j[i,:].T) + np.linalg.norm(buyer_vectors[i,:])**2\n",
        "        SV_before += sw_i\n",
        "        SV_after += sw_i_\n",
        "      Shapley_value += (1/comb(n_sellers-1,len(subset)) *(SV_before - SV_after))\n",
        "\n",
        "  return (np.sum(Shapley_value))/n_sellers"
      ],
      "metadata": {
        "id": "-PGPkY2VpXRT"
      },
      "execution_count": 30,
      "outputs": []
    },
    {
      "cell_type": "code",
      "source": [
        "from tqdm import tqdm\n",
        "spv_list = []\n",
        "for cj in tqdm(np.arange(0,20,0.1)):\n",
        "  spv = return_shapley_value(buyer_vectors = buyer_vectors,seller_vectors=seller_vectors, A=A, V=V, seller_idx=seller_idx, cj=cj)\n",
        "  spv_list.append(spv)"
      ],
      "metadata": {
        "id": "inic87S-pXTr",
        "colab": {
          "base_uri": "https://localhost:8080/"
        },
        "outputId": "fc2e9fd5-cb15-47b9-a5f7-b9da6aec9985"
      },
      "execution_count": 31,
      "outputs": [
        {
          "output_type": "stream",
          "name": "stderr",
          "text": [
            "100%|██████████| 200/200 [00:00<00:00, 789.58it/s]\n"
          ]
        }
      ]
    },
    {
      "cell_type": "code",
      "source": [
        "import matplotlib.pyplot as plt\n",
        "fig, axs = plt.subplots(3, 1, figsize=(4,4), sharex=True)\n",
        "fj_list = []\n",
        "x = np.arange(0, 20, 0.1)\n",
        "for cj in x:\n",
        "  _, fj = get_fj(seller_vectors=seller_vectors, buyer_vectors=buyer_vectors,seller_idx=seller_idx, A=A, cj = cj)\n",
        "  fj_list.append(fj)\n",
        "axs[0].plot(np.arange(0,20,0.1), spv_list, color='royalblue',label='Shapley payment')\n",
        "axs[0].plot(np.arange(0,20,0.1), np.array(fj_list)*5, color='lightcoral',label='cost')\n",
        "\n",
        "axs[0].legend()\n",
        "axs[1].plot(np.arange(0,20,0.1), spv_list - np.array(fj_list)*5, color='mediumpurple',label='utility')\n",
        "axs[1].axvline(x=np.arange(0,20,0.1)[np.argmax(spv_list - np.array(fj_list)*5)], linestyle='--', color='black')\n",
        "\n",
        "axs[1].legend()\n",
        "axs[2].plot(np.arange(0,20,0.1),np.array(sw_list),color=colors[1],label='social cost')\n",
        "axs[2].axvline(x=5, linestyle='--', color='black')\n",
        "axs[2].legend()\n",
        "plt.xlabel('$\\hat{c}_j$')\n"
      ],
      "metadata": {
        "id": "NnTbMYsGpXV5",
        "colab": {
          "base_uri": "https://localhost:8080/",
          "height": 413
        },
        "outputId": "8eb7173c-b14a-44c5-8776-2e2129e8ac02"
      },
      "execution_count": 32,
      "outputs": [
        {
          "output_type": "execute_result",
          "data": {
            "text/plain": [
              "Text(0.5, 0, '$\\\\hat{c}_j$')"
            ]
          },
          "metadata": {},
          "execution_count": 32
        },
        {
          "output_type": "display_data",
          "data": {
            "text/plain": [
              "<Figure size 400x400 with 3 Axes>"
            ],
            "image/png": "[encoded data removed]"
          },
          "metadata": {}
        }
      ]
    },
    {
      "cell_type": "code",
      "source": [
        "np.arange(0,20,0.1)[np.argmax(spv_list - np.array(fj_list)*5)]"
      ],
      "metadata": {
        "id": "g8ZkSKCEhzHB",
        "colab": {
          "base_uri": "https://localhost:8080/"
        },
        "outputId": "814a301f-ad55-417d-cb34-a1f65db7ea22"
      },
      "execution_count": 33,
      "outputs": [
        {
          "output_type": "execute_result",
          "data": {
            "text/plain": [
              "np.float64(7.0)"
            ]
          },
          "metadata": {},
          "execution_count": 33
        }
      ]
    },
    {
      "cell_type": "code",
      "source": [
        "SW_SP = return_SW(buyer_vectors = buyer_vectors,seller_vectors=seller_vectors, A=A, V=V, seller_idx=seller_idx, cj=np.arange(0,20,0.1)[np.argmax(spv_list - np.array(fj_list)*5)], true_cost=5)\n",
        "SW_opt = return_SW(buyer_vectors = buyer_vectors,seller_vectors=seller_vectors, A=A, V=V, seller_idx=seller_idx, cj=5, true_cost=5)\n",
        "print(SW_SP/SW_opt)"
      ],
      "metadata": {
        "id": "vI03n3lrh8jR",
        "colab": {
          "base_uri": "https://localhost:8080/"
        },
        "outputId": "9a35ae54-652f-406f-8f9e-1b62095871e7"
      },
      "execution_count": 37,
      "outputs": [
        {
          "output_type": "stream",
          "name": "stdout",
          "text": [
            "1.0073946981770057\n"
          ]
        }
      ]
    },
    {
      "cell_type": "markdown",
      "source": [
        "## Data Mixing Laws\n"
      ],
      "metadata": {
        "id": "cP_Ff34i1bfW"
      }
    },
    {
      "cell_type": "code",
      "source": [
        "# model-parameters\n",
        "b = 0\n",
        "t = [3, 3, 3]\n",
        "c = [1, 3, 5]\n",
        "k = 2"
      ],
      "metadata": {
        "id": "tUdkx2iC1amS"
      },
      "execution_count": null,
      "outputs": []
    },
    {
      "cell_type": "code",
      "source": [
        "from sympy import symbols, diff, solve\n",
        "from sympy.functions.elementary.exponential import exp\n",
        "from sympy import log\n",
        "from scipy.optimize import minimize\n",
        "from sympy.utilities.lambdify import lambdify\n",
        "import numpy as np\n"
      ],
      "metadata": {
        "id": "dacPeYEa1ao5"
      },
      "execution_count": null,
      "outputs": []
    },
    {
      "cell_type": "code",
      "source": [
        "\n",
        "def softmax(x):\n",
        "    exp_x = np.exp(x - np.max(x))  # Subtract max for numerical stability\n",
        "    return exp_x / np.sum(exp_x)\n",
        "\n",
        "def get_fj_mixing(j=0, cj=1):\n",
        "  c[j] = cj\n",
        "  x, y, z = symbols('x y z')\n",
        "  func = b + k * exp( exp(x)/(exp(x)+exp(y)+exp(z)) *t[0] +\\\n",
        "                   exp(y)/(exp(x)+exp(y)+exp(z))*t[1] +\\\n",
        "                    exp(z)/(exp(x)+exp(y)+exp(z))*t[2]) +\\\n",
        "                     c[0]*(exp(x)/(exp(x)+exp(y)+exp(z)))**2+\\\n",
        "                      c[1]*(exp(y)/(exp(x)+exp(y)+exp(z)))**2 +\\\n",
        "                       c[2]*(exp(z)/(exp(x)+exp(y)+exp(z)))**2\n",
        "  my_func = lambdify((x,y,z), func)\n",
        "  def my_func_v(x):\n",
        "    return my_func(*tuple(x))\n",
        "\n",
        "  v = minimize(my_func_v,[1,1,1])['x']\n",
        "  w = softmax(v)\n",
        "  return w"
      ],
      "metadata": {
        "id": "7vmzIUaOfH48"
      },
      "execution_count": 40,
      "outputs": []
    },
    {
      "cell_type": "code",
      "source": [
        "\n",
        "v_list = []\n",
        "for cj in np.arange(0,10,0.1):\n",
        "  v = get_fj_mixing(j=0, cj=cj)\n",
        "  v_list.append(v)\n"
      ],
      "metadata": {
        "id": "1jmvxLHK1atU"
      },
      "execution_count": 41,
      "outputs": []
    },
    {
      "cell_type": "code",
      "source": [
        "\n",
        "true_fj = get_fj_mixing(0,cj=1)[0]**2"
      ],
      "metadata": {
        "id": "PdKW6XwTge38"
      },
      "execution_count": 42,
      "outputs": []
    },
    {
      "cell_type": "code",
      "source": [
        "cj_list = np.arange(0,10,0.1)\n",
        "fj_list = [v_list[i][0]**2 for i in range(len(cj_list))]\n",
        "fk_sum = [v_list[i][1]**2 + v_list[i][2]**2 for i in range(len(cj_list))]\n",
        "import matplotlib.pyplot as plt\n",
        "fig, axs = plt.subplots(2, 1, figsize=(4,4), sharex=True)\n",
        "\n",
        "# First plot (top)\n",
        "axs[0].plot(cj_list, fj_list, color=\"seagreen\", linewidth=2)\n",
        "axs[0].axvline(x=1, color=\"lightcoral\", linestyle=\"--\", linewidth=2, label=\"x = 5\")\n",
        "axs[0].set_title(\"$f_j$\")\n",
        "axs[0].grid(True)\n",
        "\n",
        "# Second plot (bottom)\n",
        "axs[1].plot(cj_list, np.array(fk_sum), color=\"orange\", linewidth=2)\n",
        "axs[1].set_xlabel(\"$\\hat{c}_j$\")\n",
        "axs[1].set_title(\"$\\sum_{k != j} \\hat{c}_k f_k$\")\n",
        "axs[1].grid(True)\n",
        "\n",
        "plt.tight_layout()\n",
        "# plt.savefig(f\"{images_dir}/allocation_data_mixing_market.pdf\",format=\"pdf\", bbox_inches=\"tight\")"
      ],
      "metadata": {
        "id": "rBxD45Rb1awL",
        "colab": {
          "base_uri": "https://localhost:8080/",
          "height": 407
        },
        "outputId": "39aabbbd-8784-44f7-8770-9352f2d05e48"
      },
      "execution_count": 46,
      "outputs": [
        {
          "output_type": "display_data",
          "data": {
            "text/plain": [
              "<Figure size 400x400 with 2 Axes>"
            ],
            "image/png": "[encoded data removed]"
          },
          "metadata": {}
        }
      ]
    },
    {
      "cell_type": "code",
      "source": [
        "# myerson payment rule -- estimate the area under the curve\n",
        "from tqdm import tqdm\n",
        "xx = np.arange(1,100,0.1)\n",
        "yy = []\n",
        "for cj in tqdm(xx):\n",
        "  fj =  get_fj_mixing(j=0, cj = cj)[0]**2\n",
        "  yy.append(fj)\n",
        "from scipy.integrate import simpson\n",
        "\n",
        "P_myerson = simpson(y = yy, x = xx) + get_fj_mixing(j=0, cj = 1)[0]**2\n",
        "\n",
        "print(P_myerson)"
      ],
      "metadata": {
        "id": "67yOXVe61a1I",
        "colab": {
          "base_uri": "https://localhost:8080/"
        },
        "outputId": "32c0970a-2fab-4db6-9dd8-37f7337f1048"
      },
      "execution_count": 47,
      "outputs": [
        {
          "output_type": "stream",
          "name": "stderr",
          "text": [
            "100%|██████████| 990/990 [00:16<00:00, 60.74it/s]\n"
          ]
        },
        {
          "output_type": "stream",
          "name": "stdout",
          "text": [
            "1.6136125690394818\n"
          ]
        }
      ]
    },
    {
      "cell_type": "code",
      "source": [
        "# VCG payment rule\n",
        "def get_fj_mixing_2(j=0, cj=1):\n",
        "  c[j] = cj\n",
        "  y, z = symbols('y z')\n",
        "  func = b + k * exp( exp(y)/(exp(y)+exp(z))*t[1] +\\\n",
        "                    exp(z)/(exp(y)+exp(z))*t[2]) +\\\n",
        "                      c[1]*(exp(y)/(exp(y)+exp(z)))**2 +\\\n",
        "                       c[2]*(exp(z)/(exp(y)+exp(z)))**2\n",
        "  my_func = lambdify((y,z), func)\n",
        "  def my_func_v(x):\n",
        "    return my_func(*tuple(x))\n",
        "\n",
        "  v = minimize(my_func_v,[1,1])['x']\n",
        "  w = softmax(v)\n",
        "  return w"
      ],
      "metadata": {
        "id": "8v9qsKhYaJOs"
      },
      "execution_count": 50,
      "outputs": []
    },
    {
      "cell_type": "code",
      "source": [
        "w_reduced = get_fj_mixing_2()\n",
        "w = get_fj_mixing()"
      ],
      "metadata": {
        "id": "memkb1JadaSF"
      },
      "execution_count": 51,
      "outputs": []
    },
    {
      "cell_type": "code",
      "source": [
        "SC_reduced = b + k*np.exp(w_reduced[0]*t[1]+w_reduced[1]*t[2]) + c[1]*w_reduced[0]**2 + c[2]*w_reduced[1]**2"
      ],
      "metadata": {
        "id": "IsA3f1MVdvev"
      },
      "execution_count": 52,
      "outputs": []
    },
    {
      "cell_type": "code",
      "source": [
        "c[0] = 1\n",
        "SC = b + k*np.exp(w[0]*t[0]+w[1]*t[1]+w[2]*t[2]) + c[0]*w[0]**2 + c[1]*w[1]**2 + c[2]*w[2]**2"
      ],
      "metadata": {
        "id": "6lQgrVM5eJ6M"
      },
      "execution_count": 54,
      "outputs": []
    },
    {
      "cell_type": "markdown",
      "source": [],
      "metadata": {
        "id": "hs6VDY-Ee0qE"
      }
    },
    {
      "cell_type": "code",
      "source": [
        "P_VCG = SC_reduced - SC + c[0]*w[0]**2"
      ],
      "metadata": {
        "id": "W5bDmuMoeszK"
      },
      "execution_count": 55,
      "outputs": []
    },
    {
      "cell_type": "code",
      "source": [
        "x = np.arange(0,10,0.5)\n",
        "ours_list = []\n",
        "myerson_list = []\n",
        "vcg_list = []\n",
        "for cj in tqdm(x):\n",
        "  w = get_fj_mixing(j=0, cj=cj)\n",
        "  true_fj = w[0]**2\n",
        "  fj_list = []\n",
        "  for m in x:\n",
        "    fj = get_fj_mixing(j=0, cj=m)[0]**2\n",
        "    fj_list.append(fj)\n",
        "  ours_list.append(np.max((x-cj)*np.array(fj_list)) + cj*true_fj)\n",
        "  yy = []\n",
        "  xx = np.arange(cj,20,0.1)\n",
        "  for a in np.arange(cj,20,0.1):\n",
        "    fj = get_fj_mixing(j=0, cj = a)[0]**2\n",
        "    yy.append(fj)\n",
        "\n",
        "  myerson = simpson(y = yy, x=xx) + cj * get_fj_mixing(j=0, cj = cj)[0]**2\n",
        "  myerson_list.append(myerson)\n",
        "  w = get_fj_mixing(j=0, cj=cj)\n",
        "  SC = b + k*np.exp(w[0]*t[0]+w[1]*t[1]+w[2]*t[2]) + cj*w[0]**2 + c[1]*w[1]**2 + c[2]*w[2]**2\n",
        "  P_VCG = SC_reduced - SC + c[0]*w[0]**2\n",
        "  vcg_list.append(P_VCG)\n",
        "\n"
      ],
      "metadata": {
        "id": "3opQLHrMePir",
        "colab": {
          "base_uri": "https://localhost:8080/"
        },
        "outputId": "6f9b4c1e-4f9c-46a2-97e1-8ca5ce9a9813"
      },
      "execution_count": 58,
      "outputs": [
        {
          "output_type": "stream",
          "name": "stderr",
          "text": [
            "100%|██████████| 20/20 [00:42<00:00,  2.14s/it]\n"
          ]
        }
      ]
    },
    {
      "cell_type": "code",
      "source": [
        "import matplotlib.pyplot as plt\n",
        "\n",
        "plt.rcParams['figure.figsize'] = (5,3)\n",
        "colors = [\"#4E79A7\", \"#F28E2B\", \"#E15759\", \"#76B7B2\", \"#59A14F\", \"#EDC949\", \"#B07AA1\", \"#FF9DA7\"]\n",
        "fj_list = [get_fj_mixing(j=0, cj=cj)[0]**2 for cj in x]\n",
        "plt.plot(x, x*np.array(fj_list) , color=colors[0],label='True cost',linestyle=\"--\")\n",
        "plt.plot(x, np.array(vcg_list), color=colors[2],label='VCG')\n",
        "plt.plot(x, np.array(myerson_list), color=colors[3],label='Myerson')\n",
        "plt.ylabel('Payment value')\n",
        "plt.xlabel('True $c_j$')\n",
        "plt.legend()\n",
        "plt.grid(True)\n",
        "plt.ylim(0,3)\n",
        "plt.tight_layout()\n"
      ],
      "metadata": {
        "id": "_tTJXsIFilfP",
        "colab": {
          "base_uri": "https://localhost:8080/",
          "height": 307
        },
        "outputId": "2faeece1-bafb-49b2-b455-b619988191d4"
      },
      "execution_count": 60,
      "outputs": [
        {
          "output_type": "display_data",
          "data": {
            "text/plain": [
              "<Figure size 500x300 with 1 Axes>"
            ],
            "image/png": "[encoded data removed]"
          },
          "metadata": {}
        }
      ]
    }
  ]
}